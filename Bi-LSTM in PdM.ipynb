{
 "cells": [
  {
   "cell_type": "code",
   "execution_count": 21,
   "metadata": {
    "ExecuteTime": {
     "end_time": "2023-01-09T15:22:46.613837Z",
     "start_time": "2023-01-09T15:22:46.597875Z"
    },
    "colab": {
     "base_uri": "https://localhost:8080/",
     "height": 36
    },
    "id": "yWuxznPhATyL",
    "outputId": "ef564748-1f72-43cf-a63d-af5b91ab2279",
    "vscode": {
     "languageId": "python"
    }
   },
   "outputs": [
    {
     "data": {
      "text/plain": [
       "'C:\\\\Users\\\\Kenny\\\\Desktop\\\\AI\\\\aihw4'"
      ]
     },
     "execution_count": 21,
     "metadata": {},
     "output_type": "execute_result"
    }
   ],
   "source": [
    "import numpy as np\n",
    "import pandas as pd\n",
    "import os\n",
    "from sklearn.preprocessing import MinMaxScaler, StandardScaler\n",
    "import keras\n",
    "import keras.backend as K\n",
    "from keras.layers.core import Activation\n",
    "from keras.models import Sequential,load_model\n",
    "from keras.layers import Dense, Dropout, LSTM\n",
    "from tensorflow.keras.optimizers import Adam\n",
    "from keras.callbacks import EarlyStopping\n",
    "from keras.layers import Bidirectional\n",
    "from sklearn.model_selection import train_test_split\n",
    "import matplotlib.pyplot as plt\n",
    "\n",
    "os.getcwd()"
   ]
  },
  {
   "cell_type": "markdown",
   "metadata": {
    "id": "LF8N3B5fAZT2"
   },
   "source": [
    "# Data"
   ]
  },
  {
   "cell_type": "code",
   "execution_count": 22,
   "metadata": {
    "ExecuteTime": {
     "end_time": "2023-01-09T15:22:46.820280Z",
     "start_time": "2023-01-09T15:22:46.615827Z"
    },
    "colab": {
     "base_uri": "https://localhost:8080/",
     "height": 318
    },
    "id": "JxowlCjhnkId",
    "outputId": "9756cb8f-a3dc-4551-85f2-82d77419101c",
    "vscode": {
     "languageId": "python"
    }
   },
   "outputs": [
    {
     "name": "stdout",
     "output_type": "stream",
     "text": [
      "viwe the data shape (19992, 47)\n",
      "viwe the data shape (12739, 46)\n"
     ]
    },
    {
     "data": {
      "text/html": [
       "<div>\n",
       "<style scoped>\n",
       "    .dataframe tbody tr th:only-of-type {\n",
       "        vertical-align: middle;\n",
       "    }\n",
       "\n",
       "    .dataframe tbody tr th {\n",
       "        vertical-align: top;\n",
       "    }\n",
       "\n",
       "    .dataframe thead th {\n",
       "        text-align: right;\n",
       "    }\n",
       "</style>\n",
       "<table border=\"1\" class=\"dataframe\">\n",
       "  <thead>\n",
       "    <tr style=\"text-align: right;\">\n",
       "      <th></th>\n",
       "      <th>id</th>\n",
       "      <th>cycle</th>\n",
       "      <th>setting1</th>\n",
       "      <th>setting2</th>\n",
       "      <th>setting3</th>\n",
       "      <th>setting4</th>\n",
       "      <th>setting5</th>\n",
       "      <th>setting6</th>\n",
       "      <th>setting7</th>\n",
       "      <th>setting8</th>\n",
       "      <th>...</th>\n",
       "      <th>s25</th>\n",
       "      <th>s26</th>\n",
       "      <th>s27</th>\n",
       "      <th>s28</th>\n",
       "      <th>s29</th>\n",
       "      <th>s30</th>\n",
       "      <th>s31</th>\n",
       "      <th>s32</th>\n",
       "      <th>s33</th>\n",
       "      <th>RUL</th>\n",
       "    </tr>\n",
       "  </thead>\n",
       "  <tbody>\n",
       "    <tr>\n",
       "      <th>0</th>\n",
       "      <td>1</td>\n",
       "      <td>1</td>\n",
       "      <td>0.533153</td>\n",
       "      <td>2.285803</td>\n",
       "      <td>0</td>\n",
       "      <td>0.591651</td>\n",
       "      <td>1.272152</td>\n",
       "      <td>5.420282</td>\n",
       "      <td>3.501178</td>\n",
       "      <td>-0.0007</td>\n",
       "      <td>...</td>\n",
       "      <td>392</td>\n",
       "      <td>2388</td>\n",
       "      <td>100</td>\n",
       "      <td>39.06</td>\n",
       "      <td>23.4190</td>\n",
       "      <td>17.417395</td>\n",
       "      <td>-5.424438</td>\n",
       "      <td>-11.046572</td>\n",
       "      <td>33.975011</td>\n",
       "      <td>191</td>\n",
       "    </tr>\n",
       "    <tr>\n",
       "      <th>1</th>\n",
       "      <td>1</td>\n",
       "      <td>2</td>\n",
       "      <td>0.533153</td>\n",
       "      <td>2.285803</td>\n",
       "      <td>0</td>\n",
       "      <td>0.591651</td>\n",
       "      <td>1.272152</td>\n",
       "      <td>5.420282</td>\n",
       "      <td>3.501178</td>\n",
       "      <td>0.0019</td>\n",
       "      <td>...</td>\n",
       "      <td>392</td>\n",
       "      <td>2388</td>\n",
       "      <td>100</td>\n",
       "      <td>39.00</td>\n",
       "      <td>23.4236</td>\n",
       "      <td>2.692229</td>\n",
       "      <td>6.492347</td>\n",
       "      <td>-1.090195</td>\n",
       "      <td>1.763264</td>\n",
       "      <td>190</td>\n",
       "    </tr>\n",
       "    <tr>\n",
       "      <th>2</th>\n",
       "      <td>1</td>\n",
       "      <td>3</td>\n",
       "      <td>0.533153</td>\n",
       "      <td>2.285803</td>\n",
       "      <td>0</td>\n",
       "      <td>0.591651</td>\n",
       "      <td>1.272152</td>\n",
       "      <td>5.420282</td>\n",
       "      <td>3.501178</td>\n",
       "      <td>-0.0043</td>\n",
       "      <td>...</td>\n",
       "      <td>390</td>\n",
       "      <td>2388</td>\n",
       "      <td>100</td>\n",
       "      <td>38.95</td>\n",
       "      <td>23.3442</td>\n",
       "      <td>17.608505</td>\n",
       "      <td>11.462310</td>\n",
       "      <td>-35.453907</td>\n",
       "      <td>3.903670</td>\n",
       "      <td>189</td>\n",
       "    </tr>\n",
       "    <tr>\n",
       "      <th>3</th>\n",
       "      <td>1</td>\n",
       "      <td>4</td>\n",
       "      <td>0.533153</td>\n",
       "      <td>2.285803</td>\n",
       "      <td>0</td>\n",
       "      <td>0.591651</td>\n",
       "      <td>1.272152</td>\n",
       "      <td>5.420282</td>\n",
       "      <td>3.501178</td>\n",
       "      <td>0.0007</td>\n",
       "      <td>...</td>\n",
       "      <td>392</td>\n",
       "      <td>2388</td>\n",
       "      <td>100</td>\n",
       "      <td>38.88</td>\n",
       "      <td>23.3739</td>\n",
       "      <td>2.885575</td>\n",
       "      <td>1.767567</td>\n",
       "      <td>1.996286</td>\n",
       "      <td>-3.450681</td>\n",
       "      <td>188</td>\n",
       "    </tr>\n",
       "    <tr>\n",
       "      <th>4</th>\n",
       "      <td>1</td>\n",
       "      <td>5</td>\n",
       "      <td>0.533153</td>\n",
       "      <td>2.285803</td>\n",
       "      <td>0</td>\n",
       "      <td>0.591651</td>\n",
       "      <td>1.272152</td>\n",
       "      <td>5.420282</td>\n",
       "      <td>3.501178</td>\n",
       "      <td>-0.0019</td>\n",
       "      <td>...</td>\n",
       "      <td>393</td>\n",
       "      <td>2388</td>\n",
       "      <td>100</td>\n",
       "      <td>38.90</td>\n",
       "      <td>23.4044</td>\n",
       "      <td>11.038508</td>\n",
       "      <td>8.525787</td>\n",
       "      <td>-0.011158</td>\n",
       "      <td>-1.185085</td>\n",
       "      <td>187</td>\n",
       "    </tr>\n",
       "  </tbody>\n",
       "</table>\n",
       "<p>5 rows × 47 columns</p>\n",
       "</div>"
      ],
      "text/plain": [
       "   id  cycle  setting1  setting2  setting3  setting4  setting5  setting6  \\\n",
       "0   1      1  0.533153  2.285803         0  0.591651  1.272152  5.420282   \n",
       "1   1      2  0.533153  2.285803         0  0.591651  1.272152  5.420282   \n",
       "2   1      3  0.533153  2.285803         0  0.591651  1.272152  5.420282   \n",
       "3   1      4  0.533153  2.285803         0  0.591651  1.272152  5.420282   \n",
       "4   1      5  0.533153  2.285803         0  0.591651  1.272152  5.420282   \n",
       "\n",
       "   setting7  setting8  ...  s25   s26  s27    s28      s29        s30  \\\n",
       "0  3.501178   -0.0007  ...  392  2388  100  39.06  23.4190  17.417395   \n",
       "1  3.501178    0.0019  ...  392  2388  100  39.00  23.4236   2.692229   \n",
       "2  3.501178   -0.0043  ...  390  2388  100  38.95  23.3442  17.608505   \n",
       "3  3.501178    0.0007  ...  392  2388  100  38.88  23.3739   2.885575   \n",
       "4  3.501178   -0.0019  ...  393  2388  100  38.90  23.4044  11.038508   \n",
       "\n",
       "         s31        s32        s33  RUL  \n",
       "0  -5.424438 -11.046572  33.975011  191  \n",
       "1   6.492347  -1.090195   1.763264  190  \n",
       "2  11.462310 -35.453907   3.903670  189  \n",
       "3   1.767567   1.996286  -3.450681  188  \n",
       "4   8.525787  -0.011158  -1.185085  187  \n",
       "\n",
       "[5 rows x 47 columns]"
      ]
     },
     "execution_count": 22,
     "metadata": {},
     "output_type": "execute_result"
    }
   ],
   "source": [
    "# read training data - It is the aircraft engine run-to-failure data.\n",
    "train = pd.read_csv(r'./train_usage.csv')\n",
    "test = pd.read_csv(r'./test_usage.csv')\n",
    "\n",
    "print('viwe the data shape', train.shape)\n",
    "print('viwe the data shape', test.shape)\n",
    "\n",
    "train.head()\n",
    "#test_df.head()\n"
   ]
  },
  {
   "cell_type": "markdown",
   "metadata": {},
   "source": [
    "# 前處理"
   ]
  },
  {
   "cell_type": "code",
   "execution_count": 23,
   "metadata": {
    "ExecuteTime": {
     "end_time": "2023-01-09T15:22:46.836254Z",
     "start_time": "2023-01-09T15:22:46.822275Z"
    }
   },
   "outputs": [
    {
     "name": "stdout",
     "output_type": "stream",
     "text": [
      "False\n",
      "False\n"
     ]
    }
   ],
   "source": [
    "#檢查缺失值\n",
    "print(train.isnull().values.any())\n",
    "\n",
    "print(test.isnull().values.any())\n"
   ]
  },
  {
   "cell_type": "code",
   "execution_count": 24,
   "metadata": {
    "ExecuteTime": {
     "end_time": "2023-01-09T15:22:46.851867Z",
     "start_time": "2023-01-09T15:22:46.839231Z"
    }
   },
   "outputs": [],
   "source": [
    "\n",
    "#train = train.drop(['cycle'],axis=1)\n",
    "#test = test.drop(['cycle'],axis=1)\n"
   ]
  },
  {
   "cell_type": "code",
   "execution_count": 25,
   "metadata": {
    "ExecuteTime": {
     "end_time": "2023-01-09T15:22:46.866874Z",
     "start_time": "2023-01-09T15:22:46.853450Z"
    }
   },
   "outputs": [],
   "source": [
    "#檢查每欄位資料獨特性，並印出僅包含一種值的欄位\n",
    "def uniquechecker(dataset):\n",
    "    unique_list = []\n",
    "    for i in range(dataset.shape[1]):\n",
    "        if len(pd.unique(dataset.iloc[:,i])) == 1:\n",
    "            unique_list.append(dataset.columns[i])\n",
    "                \n",
    "    return unique_list\n",
    "        "
   ]
  },
  {
   "cell_type": "code",
   "execution_count": 26,
   "metadata": {
    "ExecuteTime": {
     "end_time": "2023-01-09T15:22:46.914092Z",
     "start_time": "2023-01-09T15:22:46.867879Z"
    }
   },
   "outputs": [
    {
     "name": "stdout",
     "output_type": "stream",
     "text": [
      "['setting1', 'setting2', 'setting3', 'setting4', 'setting5', 'setting6', 'setting7', 'setting10', 's4', 's8', 's18', 's24', 's26', 's27']\n",
      "['setting1', 'setting2', 'setting3', 'setting4', 'setting5', 'setting6', 'setting7', 'setting10', 's4', 's8', 's18', 's24', 's26', 's27']\n"
     ]
    }
   ],
   "source": [
    "train_list = uniquechecker(train)\n",
    "test_list = uniquechecker(test)\n",
    "print(train_list)\n",
    "print(test_list)\n"
   ]
  },
  {
   "cell_type": "code",
   "execution_count": 27,
   "metadata": {
    "ExecuteTime": {
     "end_time": "2023-01-09T15:22:46.930061Z",
     "start_time": "2023-01-09T15:22:46.915061Z"
    }
   },
   "outputs": [],
   "source": [
    "train = train.drop(['setting1', 'setting2', 'setting3', 'setting4', 'setting5', 'setting6', 'setting7', 'setting10', 's4', 's8', 's12', 's18', 's24', 's26', 's27'], axis=1)\n",
    "test = test.drop(['setting1', 'setting2', 'setting3', 'setting4', 'setting5', 'setting6', 'setting7', 'setting10', 's4', 's8', 's12', 's18', 's24', 's26', 's27'], axis=1)\n"
   ]
  },
  {
   "cell_type": "code",
   "execution_count": 28,
   "metadata": {
    "ExecuteTime": {
     "end_time": "2023-01-09T15:22:46.945992Z",
     "start_time": "2023-01-09T15:22:46.933030Z"
    }
   },
   "outputs": [
    {
     "data": {
      "text/plain": [
       "Index(['id', 'cycle', 'setting8', 'setting9', 'time_usage', 's1', 's2', 's3',\n",
       "       's5', 's6', 's7', 's9', 's10', 's11', 's13', 's14', 's15', 's16', 's17',\n",
       "       's19', 's20', 's21', 's22', 's23', 's25', 's28', 's29', 's30', 's31',\n",
       "       's32', 's33', 'RUL'],\n",
       "      dtype='object')"
      ]
     },
     "execution_count": 28,
     "metadata": {},
     "output_type": "execute_result"
    }
   ],
   "source": [
    "train.columns"
   ]
  },
  {
   "cell_type": "code",
   "execution_count": 29,
   "metadata": {
    "ExecuteTime": {
     "end_time": "2023-01-09T15:22:46.962017Z",
     "start_time": "2023-01-09T15:22:46.948001Z"
    }
   },
   "outputs": [],
   "source": [
    "numerical_column_list = ['setting8', 'setting9', 's1', 's2', 's3', 's5', 's6', 's7', 's9',\n",
    "       's10', 's11', 's13', 's14', 's15', 's16', 's17', 's19', 's20',\n",
    "       's21', 's22', 's23', 's25', 's28', 's29', 's30', 's31', 's32', 's33']\n"
   ]
  },
  {
   "cell_type": "code",
   "execution_count": 30,
   "metadata": {
    "ExecuteTime": {
     "end_time": "2023-01-09T15:22:46.977250Z",
     "start_time": "2023-01-09T15:22:46.966011Z"
    }
   },
   "outputs": [],
   "source": [
    "# os.chdir(r'C:\\Users\\Kenny\\Desktop\\aihw4\\distributions')\n",
    "# for i in range(len(numerical_column_list)):\n",
    "#     plt.hist(train[numerical_column_list[i]], density=False, color = \"lightblue\", cumulative = False)\n",
    "#     plt.title(numerical_column_list[i])\n",
    "#     plt.xlabel('Value')\n",
    "#     plt.ylabel('Frequency')\n",
    "#     plt.savefig(fname=numerical_column_list[i] + '.png')\n",
    "#     plt.show()\n",
    "\n",
    "# os.chdir(r'C:\\Users\\Kenny\\Desktop\\aihw4')\n"
   ]
  },
  {
   "cell_type": "code",
   "execution_count": 31,
   "metadata": {
    "ExecuteTime": {
     "end_time": "2023-01-09T15:22:47.069640Z",
     "start_time": "2023-01-09T15:22:46.979247Z"
    }
   },
   "outputs": [],
   "source": [
    "zscore_column_list = ['s5', 's6', 's7', 's13', 's14', 's19', 's20', 's21', 's23', 's25', 's28', 's29', 'setting8']\n",
    "#minmax_column_list = ['setting9', 's1', 's2', 's3', 's9', 's10', 's11', 's15', 's16', 's17', 's22', 's30', 's31', 's32', 's33']\n",
    "minmax_column_list = ['setting9', 's1', 's2', 's3', 's9', 's10', 's11', 's15', 's16', 's17', 's22', 's30', 's31', 's32', 's33', 'time_usage']\n",
    "\n",
    "# Partia#l Z-Score\n",
    "scaler_num = StandardScaler().fit(train[zscore_column_list])\n",
    "train[zscore_column_list] = scaler_num.transform(train[zscore_column_list])\n",
    "test[zscore_column_list] = scaler_num.transform(test[zscore_column_list])\n",
    "\n",
    "##Partial MinMax\n",
    "scaler_cate = MinMaxScaler().fit(train[minmax_column_list])\n",
    "train[minmax_column_list] = scaler_cate.transform(train[minmax_column_list])\n",
    "test[minmax_column_list] = scaler_cate.transform(test[minmax_column_list])\n",
    "\n",
    "##ALL MinMax\n",
    "# scaler_all = MinMaxScaler().fit(train[numerical_column_list])\n",
    "# train[numerical_column_list] = scaler_all.transform(train[numerical_column_list])\n",
    "# test[numerical_column_list] = scaler_all.transform(test[numerical_column_list])\n",
    "\n",
    "# ALl Z-Score\n",
    "# scaler_all = StandardScaler().fit(train[numerical_column_list])\n",
    "# train[numerical_column_list] = scaler_all.transform(train[numerical_column_list])\n",
    "# test[numerical_column_list] = scaler_all.transform(test[numerical_column_list])\n"
   ]
  },
  {
   "cell_type": "markdown",
   "metadata": {
    "id": "2_XlKrQtWLTl"
   },
   "source": [
    "# LSTM"
   ]
  },
  {
   "cell_type": "code",
   "execution_count": 32,
   "metadata": {
    "ExecuteTime": {
     "end_time": "2023-01-09T15:22:47.085768Z",
     "start_time": "2023-01-09T15:22:47.072631Z"
    },
    "id": "Lbyj5EvyXQQP"
   },
   "outputs": [],
   "source": [
    "sequence_length = 31\n"
   ]
  },
  {
   "cell_type": "code",
   "execution_count": 33,
   "metadata": {
    "ExecuteTime": {
     "end_time": "2023-01-09T15:22:47.336102Z",
     "start_time": "2023-01-09T15:22:47.087736Z"
    },
    "colab": {
     "base_uri": "https://localhost:8080/"
    },
    "id": "LeOZK8lOc9Gf",
    "outputId": "986259ae-4684-41cf-f67f-9a09d44f261f"
   },
   "outputs": [
    {
     "name": "stdout",
     "output_type": "stream",
     "text": [
      "(16985, 31, 28)\n"
     ]
    },
    {
     "data": {
      "text/plain": [
       "(16985, 1)"
      ]
     },
     "execution_count": 33,
     "metadata": {},
     "output_type": "execute_result"
    }
   ],
   "source": [
    "# function to reshape features into (samples, time steps, features) \n",
    "def gen_sequence(id_df, seq_length, seq_cols):\n",
    "    \"\"\" Only sequences that meet the window-length are considered, no padding is used. This means for testing\n",
    "    we need to drop those which are below the window-length. An alternative would be to pad sequences so that\n",
    "    we can use shorter ones \"\"\"\n",
    "    # for one id I put all the rows in a single matrix\n",
    "    data_matrix = id_df[seq_cols].values\n",
    "    num_elements = data_matrix.shape[0]\n",
    "    # Iterate over two lists in parallel.\n",
    "    # For example id1 have 192 rows and sequence_length is equal to 50\n",
    "    # so zip iterate over two following list of numbers (0,112),(50,192)\n",
    "    # 0 50 -> from row 0 to row 50\n",
    "    # 1 51 -> from row 1 to row 51\n",
    "    # 2 52 -> from row 2 to row 52\n",
    "    # ...\n",
    "    # 111 191 -> from row 111 to 191\n",
    "    for start, stop in zip(range(0, num_elements-seq_length), range(seq_length, num_elements)):\n",
    "        yield data_matrix[start:stop, :]\n",
    "        \n",
    "# pick the feature columns \n",
    "sensor_cols = ['s1', 's2', 's3', 's5', 's6',\n",
    "       's7', 's9', 's10', 's11', 's13', 's14', 's15', 's16', 's17', 's19',\n",
    "       's20', 's21', 's22', 's23', 's25', 's28', 's29', 's30', 's31', 's32', 's33']\n",
    "sequence_cols = ['setting8', 'setting9']\n",
    "# sequence_cols = ['setting8', 'setting9', 'time_usage']\n",
    "sequence_cols.extend(sensor_cols)\n",
    "\n",
    "# generator for the sequences\n",
    "# transform each id of the train dataset in a sequence\n",
    "seq_gen = (list(gen_sequence(train[train['id']==id], sequence_length, sequence_cols)) \n",
    "           for id in train['id'].unique())\n",
    "\n",
    "# generate sequences and convert to numpy array\n",
    "seq_array = np.concatenate(list(seq_gen)).astype(np.float32)\n",
    "print(seq_array.shape)\n",
    "\n",
    "# function to generate labels\n",
    "def gen_labels(id_df, seq_length, label):\n",
    "    \"\"\" Only sequences that meet the window-length are considered, no padding is used. This means for testing\n",
    "    we need to drop those which are below the window-length. An alternative would be to pad sequences so that\n",
    "    we can use shorter ones \"\"\"\n",
    "    # For one id I put all the labels in a single matrix.\n",
    "    # For example:\n",
    "    # [[1]\n",
    "    # [4]\n",
    "    # [1]\n",
    "    # [5]\n",
    "    # [9]\n",
    "    # ...\n",
    "    # [200]] \n",
    "    data_matrix = id_df[label].values\n",
    "    num_elements = data_matrix.shape[0]\n",
    "    # I have to remove the first seq_length labels\n",
    "    # because for one id the first sequence of seq_length size have as target\n",
    "    # the last label (the previus ones are discarded).\n",
    "    # All the next id's sequences will have associated step by step one label as target.\n",
    "    return data_matrix[seq_length:num_elements, :]\n",
    "\n",
    "# generate labels\n",
    "label_gen = [gen_labels(train[train['id']==id], sequence_length, ['RUL']) \n",
    "             for id in train['id'].unique()]\n",
    "\n",
    "label_array = np.concatenate(label_gen).astype(np.float32)\n",
    "label_array.shape\n"
   ]
  },
  {
   "cell_type": "code",
   "execution_count": 34,
   "metadata": {
    "ExecuteTime": {
     "end_time": "2023-01-09T15:22:47.381795Z",
     "start_time": "2023-01-09T15:22:47.337098Z"
    }
   },
   "outputs": [],
   "source": [
    "traincount_list = []\n",
    "traincount_list.append(0) \n",
    "for i in range(label_array.shape[0]):\n",
    "    if label_array[i][0] == 0:\n",
    "        traincount_list.append(i)\n",
    "        \n",
    "#traincount_list   \n"
   ]
  },
  {
   "cell_type": "code",
   "execution_count": 35,
   "metadata": {
    "ExecuteTime": {
     "end_time": "2023-01-09T15:22:48.242423Z",
     "start_time": "2023-01-09T15:22:47.382683Z"
    }
   },
   "outputs": [
    {
     "name": "stdout",
     "output_type": "stream",
     "text": [
      "(10153, 31, 28)\n",
      "(10153, 1)\n",
      "(6832, 31, 28)\n",
      "(6832, 1)\n",
      "16985\n"
     ]
    }
   ],
   "source": [
    "for i in range(1,len(traincount_list)):  \n",
    "    \n",
    "    counter_all = int(traincount_list[i])\n",
    "    counter_previous = int(traincount_list[i-1])\n",
    "    counter = (int(traincount_list[i])-int(traincount_list[i-1]))\n",
    "    spliter_val = round(counter*0.2)\n",
    "    spliter_train = counter - spliter_val\n",
    "    \n",
    "    if i == 1:\n",
    "#         seq_array_train = seq_array[0:spliter_train]\n",
    "#         label_array_train = label_array[0:spliter_train]\n",
    "                \n",
    "#         seq_array_val = seq_array[spliter_train:counter+1]\n",
    "#         label_array_val = label_array[spliter_train:counter+1]\n",
    "        seq_array_train, seq_array_val, label_array_train, label_array_val = train_test_split(seq_array[0:counter_all+1], label_array[0:counter_all+1], test_size=0.4, random_state=42)\n",
    "        \n",
    "    else:\n",
    "        #train \n",
    "#         temp_seq_train = seq_array[counter_previous:counter_previous+spliter_train]\n",
    "#         temp_label_train = label_array[counter_previous:counter_previous+spliter_train]\n",
    "        #val    \n",
    "#         temp_seq_val = seq_array[counter_previous+spliter_train:counter_all]\n",
    "#         temp_label_val = label_array[counter_previous+spliter_train:counter_all]\n",
    "            \n",
    "        seq_array_train_temp, seq_array_val_temp, label_array_train_temp, label_array_val_temp = train_test_split(seq_array[counter_previous:counter_all], label_array[counter_previous:counter_all], test_size=0.4, random_state=42)\n",
    "    \n",
    "        seq_array_train = np.concatenate([seq_array_train, seq_array_train_temp], axis=0)    \n",
    "        label_array_train = np.concatenate([label_array_train, label_array_train_temp], axis=0)\n",
    "        \n",
    "        seq_array_val = np.concatenate([seq_array_val, seq_array_val_temp], axis=0)\n",
    "        label_array_val = np.concatenate([label_array_val, label_array_val_temp], axis=0)\n",
    "               \n",
    "print(seq_array_train.shape)      \n",
    "print(label_array_train.shape)\n",
    "print(seq_array_val.shape)\n",
    "print(label_array_val.shape)\n",
    "\n",
    "print(seq_array_train.shape[0] + seq_array_val.shape[0])"
   ]
  },
  {
   "cell_type": "code",
   "execution_count": 36,
   "metadata": {
    "ExecuteTime": {
     "end_time": "2023-01-09T15:22:48.257520Z",
     "start_time": "2023-01-09T15:22:48.244418Z"
    }
   },
   "outputs": [],
   "source": [
    "# #14826 for length=20\n",
    "# #11544 for length=30\n",
    "# print(label_array.shape[0])\n",
    "\n",
    "# seq_array_val = seq_array[14000:]\n",
    "# label_array_val = label_array[14000:]\n",
    "\n",
    "# seq_array = seq_array[:14000]\n",
    "# label_array = label_array[:14000]\n",
    "\n",
    "# print(seq_array_val.shape[0] + seq_array.shape[0])\n"
   ]
  },
  {
   "cell_type": "code",
   "execution_count": 37,
   "metadata": {
    "ExecuteTime": {
     "end_time": "2023-01-09T15:22:48.304744Z",
     "start_time": "2023-01-09T15:22:48.258536Z"
    },
    "colab": {
     "base_uri": "https://localhost:8080/"
    },
    "id": "gPx1AzOan6VT",
    "outputId": "92682809-7417-4eca-d7cf-ae681f230389"
   },
   "outputs": [],
   "source": [
    "def r2_keras(y_true, y_pred):\n",
    "    \"\"\"Coefficient of Determination \n",
    "    \"\"\"\n",
    "    SS_res =  K.sum(K.square( y_true - y_pred ))\n",
    "    SS_tot = K.sum(K.square( y_true - K.mean(y_true) ) )\n",
    "    return ( 1 - SS_res/(SS_tot + K.epsilon()) )\n",
    "\n",
    "nb_features = seq_array.shape[2]\n",
    "nb_out = label_array.shape[1]\n",
    "\n",
    "model = Sequential()\n",
    "model.add(Bidirectional(LSTM(input_shape=(sequence_length, nb_features), units=128, return_sequences=True)))\n",
    "# model.add(Dropout(0.2))\n",
    "\n",
    "# model.add(LSTM(units=86, return_sequences=True))\n",
    "# model.add(Dropout(0.2))\n",
    "\n",
    "# model.add(LSTM(units=86, return_sequences=True))\n",
    "# model.add(Dropout(0.2))\n",
    "\n",
    "# model.add(Bidirectional(LSTM(units=86, return_sequences=True)))\n",
    "# model.add(Dropout(0.2))\n",
    "\n",
    "# model.add(Bidirectional(LSTM(units=86, return_sequences=True)))\n",
    "# model.add(Dropout(0.2))\n",
    "\n",
    "model.add(Bidirectional(LSTM(units=86, return_sequences=True)))\n",
    "model.add(Dropout(0.2))\n",
    "\n",
    "model.add(Bidirectional(LSTM(units=86, return_sequences=False)))\n",
    "model.add(Dropout(0.2))\n",
    "\n",
    "Adam = Adam(learning_rate=0.001)\n",
    "#model.add(Dense(units=nb_out))\n",
    "#model.add(Activation(\"linear\"))\n",
    "model.add(Dense(1))\n",
    "\n",
    "model.compile(loss='mae', optimizer=Adam)\n",
    "\n",
    "#print(model.summary())\n"
   ]
  },
  {
   "cell_type": "code",
   "execution_count": 38,
   "metadata": {
    "ExecuteTime": {
     "end_time": "2023-01-09T15:29:38.226726Z",
     "start_time": "2023-01-09T15:22:48.306664Z"
    },
    "scrolled": true
   },
   "outputs": [
    {
     "name": "stdout",
     "output_type": "stream",
     "text": [
      "Epoch 1/150\n",
      "20/20 - 11s - loss: 83.3809 - val_loss: 80.6534 - 11s/epoch - 573ms/step\n",
      "Epoch 2/150\n",
      "20/20 - 2s - loss: 74.0371 - val_loss: 76.2727 - 2s/epoch - 123ms/step\n",
      "Epoch 3/150\n",
      "20/20 - 3s - loss: 70.9467 - val_loss: 73.4457 - 3s/epoch - 127ms/step\n",
      "Epoch 4/150\n",
      "20/20 - 3s - loss: 68.4667 - val_loss: 70.9020 - 3s/epoch - 125ms/step\n",
      "Epoch 5/150\n",
      "20/20 - 3s - loss: 66.2338 - val_loss: 68.6588 - 3s/epoch - 127ms/step\n",
      "Epoch 6/150\n",
      "20/20 - 3s - loss: 64.2333 - val_loss: 66.6541 - 3s/epoch - 129ms/step\n",
      "Epoch 7/150\n",
      "20/20 - 2s - loss: 62.4247 - val_loss: 64.8706 - 2s/epoch - 125ms/step\n",
      "Epoch 8/150\n",
      "20/20 - 2s - loss: 60.7915 - val_loss: 63.2572 - 2s/epoch - 125ms/step\n",
      "Epoch 9/150\n",
      "20/20 - 3s - loss: 59.3822 - val_loss: 61.7733 - 3s/epoch - 125ms/step\n",
      "Epoch 10/150\n",
      "20/20 - 3s - loss: 58.1321 - val_loss: 60.3968 - 3s/epoch - 130ms/step\n",
      "Epoch 11/150\n",
      "20/20 - 2s - loss: 57.1092 - val_loss: 59.1839 - 2s/epoch - 124ms/step\n",
      "Epoch 12/150\n",
      "20/20 - 3s - loss: 56.1386 - val_loss: 58.0799 - 3s/epoch - 127ms/step\n",
      "Epoch 13/150\n",
      "20/20 - 3s - loss: 55.3512 - val_loss: 57.0543 - 3s/epoch - 126ms/step\n",
      "Epoch 14/150\n",
      "20/20 - 3s - loss: 54.5871 - val_loss: 56.1539 - 3s/epoch - 130ms/step\n",
      "Epoch 15/150\n",
      "20/20 - 2s - loss: 53.9546 - val_loss: 55.3092 - 2s/epoch - 124ms/step\n",
      "Epoch 16/150\n",
      "20/20 - 3s - loss: 53.3295 - val_loss: 54.5560 - 3s/epoch - 126ms/step\n",
      "Epoch 17/150\n",
      "20/20 - 2s - loss: 52.6803 - val_loss: 53.6881 - 2s/epoch - 125ms/step\n",
      "Epoch 18/150\n",
      "20/20 - 2s - loss: 51.3508 - val_loss: 49.1001 - 2s/epoch - 124ms/step\n",
      "Epoch 19/150\n",
      "20/20 - 3s - loss: 45.3799 - val_loss: 46.5037 - 3s/epoch - 125ms/step\n",
      "Epoch 20/150\n",
      "20/20 - 3s - loss: 42.6295 - val_loss: 43.2604 - 3s/epoch - 127ms/step\n",
      "Epoch 21/150\n",
      "20/20 - 2s - loss: 40.4402 - val_loss: 41.4731 - 2s/epoch - 123ms/step\n",
      "Epoch 22/150\n",
      "20/20 - 3s - loss: 38.7633 - val_loss: 39.4330 - 3s/epoch - 126ms/step\n",
      "Epoch 23/150\n",
      "20/20 - 3s - loss: 36.9294 - val_loss: 38.1691 - 3s/epoch - 127ms/step\n",
      "Epoch 24/150\n",
      "20/20 - 3s - loss: 35.1926 - val_loss: 36.1108 - 3s/epoch - 128ms/step\n",
      "Epoch 25/150\n",
      "20/20 - 3s - loss: 33.7012 - val_loss: 35.0022 - 3s/epoch - 128ms/step\n",
      "Epoch 26/150\n",
      "20/20 - 3s - loss: 32.6196 - val_loss: 33.9293 - 3s/epoch - 127ms/step\n",
      "Epoch 27/150\n",
      "20/20 - 3s - loss: 31.1392 - val_loss: 32.3696 - 3s/epoch - 129ms/step\n",
      "Epoch 28/150\n",
      "20/20 - 3s - loss: 29.8448 - val_loss: 31.2585 - 3s/epoch - 134ms/step\n",
      "Epoch 29/150\n",
      "20/20 - 3s - loss: 28.9023 - val_loss: 30.4391 - 3s/epoch - 132ms/step\n",
      "Epoch 30/150\n",
      "20/20 - 3s - loss: 28.2145 - val_loss: 29.5112 - 3s/epoch - 132ms/step\n",
      "Epoch 31/150\n",
      "20/20 - 3s - loss: 27.2414 - val_loss: 28.1865 - 3s/epoch - 132ms/step\n",
      "Epoch 32/150\n",
      "20/20 - 3s - loss: 26.2726 - val_loss: 27.6800 - 3s/epoch - 132ms/step\n",
      "Epoch 33/150\n",
      "20/20 - 3s - loss: 25.7657 - val_loss: 26.9666 - 3s/epoch - 133ms/step\n",
      "Epoch 34/150\n",
      "20/20 - 3s - loss: 25.1961 - val_loss: 26.2762 - 3s/epoch - 130ms/step\n",
      "Epoch 35/150\n",
      "20/20 - 3s - loss: 24.4433 - val_loss: 25.3747 - 3s/epoch - 136ms/step\n",
      "Epoch 36/150\n",
      "20/20 - 3s - loss: 23.8993 - val_loss: 24.7637 - 3s/epoch - 134ms/step\n",
      "Epoch 37/150\n",
      "20/20 - 3s - loss: 23.2403 - val_loss: 24.3315 - 3s/epoch - 140ms/step\n",
      "Epoch 38/150\n",
      "20/20 - 3s - loss: 23.0554 - val_loss: 24.3958 - 3s/epoch - 136ms/step\n",
      "Epoch 39/150\n",
      "20/20 - 3s - loss: 22.6444 - val_loss: 24.1460 - 3s/epoch - 137ms/step\n",
      "Epoch 40/150\n",
      "20/20 - 3s - loss: 22.0614 - val_loss: 22.9440 - 3s/epoch - 132ms/step\n",
      "Epoch 41/150\n",
      "20/20 - 3s - loss: 21.7330 - val_loss: 22.8501 - 3s/epoch - 132ms/step\n",
      "Epoch 42/150\n",
      "20/20 - 3s - loss: 21.3065 - val_loss: 22.2586 - 3s/epoch - 132ms/step\n",
      "Epoch 43/150\n",
      "20/20 - 3s - loss: 20.8904 - val_loss: 22.1527 - 3s/epoch - 134ms/step\n",
      "Epoch 44/150\n",
      "20/20 - 3s - loss: 20.6182 - val_loss: 21.5488 - 3s/epoch - 132ms/step\n",
      "Epoch 45/150\n",
      "20/20 - 3s - loss: 20.3909 - val_loss: 21.5006 - 3s/epoch - 135ms/step\n",
      "Epoch 46/150\n",
      "20/20 - 3s - loss: 20.2367 - val_loss: 21.1991 - 3s/epoch - 140ms/step\n",
      "Epoch 47/150\n",
      "20/20 - 3s - loss: 20.1143 - val_loss: 21.0762 - 3s/epoch - 136ms/step\n",
      "Epoch 48/150\n",
      "20/20 - 3s - loss: 19.5667 - val_loss: 20.3384 - 3s/epoch - 137ms/step\n",
      "Epoch 49/150\n",
      "20/20 - 3s - loss: 19.2211 - val_loss: 20.1425 - 3s/epoch - 133ms/step\n",
      "Epoch 50/150\n",
      "20/20 - 3s - loss: 18.7947 - val_loss: 19.6587 - 3s/epoch - 134ms/step\n",
      "Epoch 51/150\n",
      "20/20 - 3s - loss: 18.5807 - val_loss: 20.0374 - 3s/epoch - 134ms/step\n",
      "Epoch 52/150\n",
      "20/20 - 3s - loss: 18.5305 - val_loss: 19.1924 - 3s/epoch - 133ms/step\n",
      "Epoch 53/150\n",
      "20/20 - 3s - loss: 17.9657 - val_loss: 18.5043 - 3s/epoch - 133ms/step\n",
      "Epoch 54/150\n",
      "20/20 - 3s - loss: 17.6695 - val_loss: 18.3241 - 3s/epoch - 134ms/step\n",
      "Epoch 55/150\n",
      "20/20 - 3s - loss: 17.4919 - val_loss: 18.4443 - 3s/epoch - 134ms/step\n",
      "Epoch 56/150\n",
      "20/20 - 3s - loss: 17.3189 - val_loss: 18.6808 - 3s/epoch - 135ms/step\n",
      "Epoch 57/150\n",
      "20/20 - 3s - loss: 17.0473 - val_loss: 17.8607 - 3s/epoch - 137ms/step\n",
      "Epoch 58/150\n",
      "20/20 - 3s - loss: 16.9005 - val_loss: 17.7956 - 3s/epoch - 138ms/step\n",
      "Epoch 59/150\n",
      "20/20 - 3s - loss: 16.6666 - val_loss: 17.6212 - 3s/epoch - 140ms/step\n",
      "Epoch 60/150\n",
      "20/20 - 3s - loss: 16.1076 - val_loss: 16.6370 - 3s/epoch - 139ms/step\n",
      "Epoch 61/150\n",
      "20/20 - 3s - loss: 15.6043 - val_loss: 16.3836 - 3s/epoch - 134ms/step\n",
      "Epoch 62/150\n",
      "20/20 - 3s - loss: 15.3809 - val_loss: 16.2248 - 3s/epoch - 135ms/step\n",
      "Epoch 63/150\n",
      "20/20 - 3s - loss: 15.2152 - val_loss: 16.1513 - 3s/epoch - 135ms/step\n",
      "Epoch 64/150\n",
      "20/20 - 3s - loss: 15.1283 - val_loss: 15.5758 - 3s/epoch - 135ms/step\n",
      "Epoch 65/150\n",
      "20/20 - 3s - loss: 14.7067 - val_loss: 15.5159 - 3s/epoch - 132ms/step\n",
      "Epoch 66/150\n",
      "20/20 - 3s - loss: 14.8655 - val_loss: 15.4067 - 3s/epoch - 135ms/step\n",
      "Epoch 67/150\n",
      "20/20 - 3s - loss: 14.4939 - val_loss: 15.1019 - 3s/epoch - 138ms/step\n",
      "Epoch 68/150\n",
      "20/20 - 3s - loss: 14.0529 - val_loss: 14.8692 - 3s/epoch - 138ms/step\n",
      "Epoch 69/150\n",
      "20/20 - 3s - loss: 14.0397 - val_loss: 15.2823 - 3s/epoch - 137ms/step\n",
      "Epoch 70/150\n",
      "20/20 - 3s - loss: 14.0565 - val_loss: 14.7653 - 3s/epoch - 137ms/step\n",
      "Epoch 71/150\n",
      "20/20 - 3s - loss: 13.7352 - val_loss: 14.8049 - 3s/epoch - 137ms/step\n",
      "Epoch 72/150\n",
      "20/20 - 3s - loss: 13.5553 - val_loss: 14.3177 - 3s/epoch - 137ms/step\n",
      "Epoch 73/150\n",
      "20/20 - 3s - loss: 13.0981 - val_loss: 13.6149 - 3s/epoch - 138ms/step\n",
      "Epoch 74/150\n",
      "20/20 - 3s - loss: 12.8316 - val_loss: 13.9976 - 3s/epoch - 139ms/step\n",
      "Epoch 75/150\n",
      "20/20 - 3s - loss: 12.5433 - val_loss: 13.3193 - 3s/epoch - 139ms/step\n",
      "Epoch 76/150\n",
      "20/20 - 3s - loss: 12.3276 - val_loss: 13.1174 - 3s/epoch - 137ms/step\n",
      "Epoch 77/150\n",
      "20/20 - 3s - loss: 12.3348 - val_loss: 13.2831 - 3s/epoch - 139ms/step\n",
      "Epoch 78/150\n",
      "20/20 - 3s - loss: 12.1476 - val_loss: 12.7506 - 3s/epoch - 133ms/step\n",
      "Epoch 79/150\n",
      "20/20 - 3s - loss: 11.9544 - val_loss: 13.0824 - 3s/epoch - 138ms/step\n",
      "Epoch 80/150\n",
      "20/20 - 3s - loss: 11.6854 - val_loss: 13.1115 - 3s/epoch - 135ms/step\n",
      "Epoch 81/150\n",
      "20/20 - 3s - loss: 11.6667 - val_loss: 12.3368 - 3s/epoch - 139ms/step\n",
      "Epoch 82/150\n",
      "20/20 - 3s - loss: 11.3689 - val_loss: 12.2008 - 3s/epoch - 139ms/step\n",
      "Epoch 83/150\n",
      "20/20 - 3s - loss: 11.1741 - val_loss: 11.7101 - 3s/epoch - 136ms/step\n",
      "Epoch 84/150\n",
      "20/20 - 3s - loss: 11.0336 - val_loss: 11.7734 - 3s/epoch - 138ms/step\n",
      "Epoch 85/150\n",
      "20/20 - 3s - loss: 10.7917 - val_loss: 11.6270 - 3s/epoch - 135ms/step\n",
      "Epoch 86/150\n",
      "20/20 - 3s - loss: 10.6847 - val_loss: 11.2937 - 3s/epoch - 131ms/step\n",
      "Epoch 87/150\n",
      "20/20 - 3s - loss: 10.6044 - val_loss: 11.5662 - 3s/epoch - 133ms/step\n",
      "Epoch 88/150\n",
      "20/20 - 3s - loss: 10.4588 - val_loss: 10.9558 - 3s/epoch - 139ms/step\n",
      "Epoch 89/150\n",
      "20/20 - 3s - loss: 10.3792 - val_loss: 10.8351 - 3s/epoch - 134ms/step\n",
      "Epoch 90/150\n",
      "20/20 - 3s - loss: 10.0843 - val_loss: 10.6169 - 3s/epoch - 135ms/step\n",
      "Epoch 91/150\n",
      "20/20 - 3s - loss: 9.8986 - val_loss: 10.4563 - 3s/epoch - 131ms/step\n",
      "Epoch 92/150\n",
      "20/20 - 3s - loss: 9.8995 - val_loss: 11.0374 - 3s/epoch - 131ms/step\n",
      "Epoch 93/150\n",
      "20/20 - 3s - loss: 10.0513 - val_loss: 10.1335 - 3s/epoch - 133ms/step\n",
      "Epoch 94/150\n",
      "20/20 - 3s - loss: 9.6785 - val_loss: 9.8183 - 3s/epoch - 133ms/step\n",
      "Epoch 95/150\n",
      "20/20 - 3s - loss: 9.3965 - val_loss: 9.9286 - 3s/epoch - 132ms/step\n",
      "Epoch 96/150\n",
      "20/20 - 3s - loss: 9.2005 - val_loss: 9.8067 - 3s/epoch - 131ms/step\n",
      "Epoch 97/150\n",
      "20/20 - 3s - loss: 9.1150 - val_loss: 9.5283 - 3s/epoch - 133ms/step\n",
      "Epoch 98/150\n",
      "20/20 - 3s - loss: 9.0397 - val_loss: 9.7963 - 3s/epoch - 136ms/step\n"
     ]
    },
    {
     "name": "stdout",
     "output_type": "stream",
     "text": [
      "Epoch 99/150\n",
      "20/20 - 3s - loss: 9.0910 - val_loss: 9.7283 - 3s/epoch - 135ms/step\n",
      "Epoch 100/150\n",
      "20/20 - 3s - loss: 9.3139 - val_loss: 9.7592 - 3s/epoch - 136ms/step\n",
      "Epoch 101/150\n",
      "20/20 - 3s - loss: 9.0070 - val_loss: 9.8468 - 3s/epoch - 140ms/step\n",
      "Epoch 102/150\n",
      "20/20 - 3s - loss: 9.0325 - val_loss: 9.0651 - 3s/epoch - 133ms/step\n",
      "Epoch 103/150\n",
      "20/20 - 3s - loss: 8.3147 - val_loss: 9.1264 - 3s/epoch - 131ms/step\n",
      "Epoch 104/150\n",
      "20/20 - 3s - loss: 8.3690 - val_loss: 8.7824 - 3s/epoch - 130ms/step\n",
      "Epoch 105/150\n",
      "20/20 - 3s - loss: 8.2036 - val_loss: 8.5113 - 3s/epoch - 131ms/step\n",
      "Epoch 106/150\n",
      "20/20 - 3s - loss: 8.1601 - val_loss: 8.9551 - 3s/epoch - 131ms/step\n",
      "Epoch 107/150\n",
      "20/20 - 3s - loss: 8.0080 - val_loss: 8.3992 - 3s/epoch - 131ms/step\n",
      "Epoch 108/150\n",
      "20/20 - 3s - loss: 7.9116 - val_loss: 8.5277 - 3s/epoch - 133ms/step\n",
      "Epoch 109/150\n",
      "20/20 - 3s - loss: 8.0529 - val_loss: 8.5840 - 3s/epoch - 137ms/step\n",
      "Epoch 110/150\n",
      "20/20 - 3s - loss: 8.0455 - val_loss: 8.7985 - 3s/epoch - 138ms/step\n",
      "Epoch 111/150\n",
      "20/20 - 3s - loss: 7.7770 - val_loss: 8.0878 - 3s/epoch - 138ms/step\n",
      "Epoch 112/150\n",
      "20/20 - 3s - loss: 7.7732 - val_loss: 8.1603 - 3s/epoch - 135ms/step\n",
      "Epoch 113/150\n",
      "20/20 - 3s - loss: 7.5788 - val_loss: 7.5241 - 3s/epoch - 136ms/step\n",
      "Epoch 114/150\n",
      "20/20 - 3s - loss: 7.4027 - val_loss: 7.7112 - 3s/epoch - 136ms/step\n",
      "Epoch 115/150\n",
      "20/20 - 3s - loss: 7.3308 - val_loss: 7.4841 - 3s/epoch - 138ms/step\n",
      "Epoch 116/150\n",
      "20/20 - 3s - loss: 7.3024 - val_loss: 7.3648 - 3s/epoch - 135ms/step\n",
      "Epoch 117/150\n",
      "20/20 - 3s - loss: 7.3367 - val_loss: 7.6218 - 3s/epoch - 136ms/step\n",
      "Epoch 118/150\n",
      "20/20 - 3s - loss: 7.3555 - val_loss: 7.4588 - 3s/epoch - 138ms/step\n",
      "Epoch 119/150\n",
      "20/20 - 3s - loss: 7.3777 - val_loss: 7.4352 - 3s/epoch - 137ms/step\n",
      "Epoch 120/150\n",
      "20/20 - 3s - loss: 6.9862 - val_loss: 7.0783 - 3s/epoch - 136ms/step\n",
      "Epoch 121/150\n",
      "20/20 - 3s - loss: 6.8708 - val_loss: 7.0062 - 3s/epoch - 133ms/step\n",
      "Epoch 122/150\n",
      "20/20 - 3s - loss: 6.8040 - val_loss: 7.1888 - 3s/epoch - 136ms/step\n",
      "Epoch 123/150\n",
      "20/20 - 3s - loss: 6.7408 - val_loss: 6.6862 - 3s/epoch - 137ms/step\n",
      "Epoch 124/150\n",
      "20/20 - 3s - loss: 6.7189 - val_loss: 6.4786 - 3s/epoch - 136ms/step\n",
      "Epoch 125/150\n",
      "20/20 - 3s - loss: 6.6422 - val_loss: 6.8105 - 3s/epoch - 137ms/step\n",
      "Epoch 126/150\n",
      "20/20 - 3s - loss: 6.6209 - val_loss: 6.4895 - 3s/epoch - 138ms/step\n",
      "Epoch 127/150\n",
      "20/20 - 3s - loss: 6.4597 - val_loss: 6.6034 - 3s/epoch - 139ms/step\n",
      "Epoch 128/150\n",
      "20/20 - 3s - loss: 6.5049 - val_loss: 6.4007 - 3s/epoch - 138ms/step\n",
      "Epoch 129/150\n",
      "20/20 - 3s - loss: 6.4008 - val_loss: 6.2863 - 3s/epoch - 137ms/step\n",
      "Epoch 130/150\n",
      "20/20 - 3s - loss: 6.2906 - val_loss: 6.4525 - 3s/epoch - 138ms/step\n",
      "Epoch 131/150\n",
      "20/20 - 3s - loss: 6.5092 - val_loss: 6.5193 - 3s/epoch - 138ms/step\n",
      "Epoch 132/150\n",
      "20/20 - 3s - loss: 6.2387 - val_loss: 6.0863 - 3s/epoch - 140ms/step\n",
      "Epoch 133/150\n",
      "20/20 - 3s - loss: 6.1753 - val_loss: 5.9051 - 3s/epoch - 139ms/step\n",
      "Epoch 134/150\n",
      "20/20 - 3s - loss: 6.0804 - val_loss: 5.9325 - 3s/epoch - 134ms/step\n",
      "Epoch 135/150\n",
      "20/20 - 3s - loss: 6.1316 - val_loss: 6.4109 - 3s/epoch - 134ms/step\n",
      "Epoch 136/150\n",
      "20/20 - 3s - loss: 6.0459 - val_loss: 5.5687 - 3s/epoch - 133ms/step\n",
      "Epoch 137/150\n",
      "20/20 - 3s - loss: 5.9153 - val_loss: 5.8749 - 3s/epoch - 133ms/step\n",
      "Epoch 138/150\n",
      "20/20 - 3s - loss: 5.9437 - val_loss: 5.8286 - 3s/epoch - 133ms/step\n",
      "Epoch 139/150\n",
      "20/20 - 3s - loss: 5.8851 - val_loss: 5.8262 - 3s/epoch - 132ms/step\n",
      "Epoch 140/150\n",
      "20/20 - 3s - loss: 5.9799 - val_loss: 6.0255 - 3s/epoch - 133ms/step\n",
      "Epoch 141/150\n",
      "20/20 - 3s - loss: 5.8641 - val_loss: 5.5223 - 3s/epoch - 131ms/step\n",
      "Epoch 142/150\n",
      "20/20 - 3s - loss: 5.8029 - val_loss: 5.8943 - 3s/epoch - 133ms/step\n",
      "Epoch 143/150\n",
      "20/20 - 3s - loss: 5.8571 - val_loss: 5.7305 - 3s/epoch - 133ms/step\n",
      "Epoch 144/150\n",
      "20/20 - 3s - loss: 5.7420 - val_loss: 5.7430 - 3s/epoch - 135ms/step\n",
      "Epoch 145/150\n",
      "20/20 - 3s - loss: 5.7132 - val_loss: 5.3494 - 3s/epoch - 134ms/step\n",
      "Epoch 146/150\n",
      "20/20 - 3s - loss: 5.6223 - val_loss: 5.6863 - 3s/epoch - 136ms/step\n",
      "Epoch 147/150\n",
      "20/20 - 3s - loss: 5.5520 - val_loss: 4.9092 - 3s/epoch - 134ms/step\n",
      "Epoch 148/150\n",
      "20/20 - 3s - loss: 5.4371 - val_loss: 5.4717 - 3s/epoch - 133ms/step\n",
      "Epoch 149/150\n",
      "20/20 - 3s - loss: 5.6553 - val_loss: 5.6253 - 3s/epoch - 135ms/step\n",
      "Epoch 150/150\n",
      "20/20 - 3s - loss: 5.6001 - val_loss: 5.5827 - 3s/epoch - 138ms/step\n"
     ]
    }
   ],
   "source": [
    "# fit the network\n",
    "es = EarlyStopping(monitor='val_loss', mode='min', verbose=1, patience=15)\n",
    "#history = model.fit(seq_array, label_array, epochs=200, batch_size=256, shuffle=True, validation_split=0.2, verbose=2, callbacks=[es])\n",
    "\n",
    "history = model.fit(seq_array_train, label_array_train, epochs=150, batch_size=512, shuffle=True, validation_data=(seq_array_val, label_array_val), verbose=2, callbacks=[es])\n",
    "\n",
    "# list all data in history\n",
    "# print(history.history.keys())\n"
   ]
  },
  {
   "cell_type": "code",
   "execution_count": 39,
   "metadata": {
    "ExecuteTime": {
     "end_time": "2023-01-09T15:29:38.367357Z",
     "start_time": "2023-01-09T15:29:38.227759Z"
    }
   },
   "outputs": [
    {
     "data": {
      "image/png": "[encoded data removed]",
      "text/plain": [
       "<Figure size 640x480 with 1 Axes>"
      ]
     },
     "metadata": {},
     "output_type": "display_data"
    }
   ],
   "source": [
    "# summarize history for loss\n",
    "plt.plot(history.history['loss'])\n",
    "plt.plot(history.history['val_loss'])\n",
    "plt.title('model loss')\n",
    "plt.ylabel('loss')\n",
    "plt.xlabel('epoch')\n",
    "plt.legend(['train', 'val'])\n",
    "plt.show()\n"
   ]
  },
  {
   "cell_type": "code",
   "execution_count": 40,
   "metadata": {
    "ExecuteTime": {
     "end_time": "2023-01-09T15:29:38.383311Z",
     "start_time": "2023-01-09T15:29:38.369384Z"
    },
    "colab": {
     "base_uri": "https://localhost:8080/"
    },
    "id": "pDrp7F6Fn-3p",
    "outputId": "dfcef3bf-d2e2-455e-8162-5a00e4fcf64f"
   },
   "outputs": [],
   "source": [
    "#We pick the last sequence for each id in the test data\n",
    "# seq_array_test_last = [test[test['id']==id][sequence_cols].values[-sequence_length:] \n",
    "#                        for id in test['id'].unique() if len(test[test['id']==id]) >= sequence_length]\n",
    "\n",
    "# seq_array_test_last = np.asarray(seq_array_test_last).astype(np.float32)\n",
    "\n",
    "# y_pred_test = model.predict(seq_array_test_last)\n",
    "\n",
    "# test_set = pd.DataFrame(y_pred_test, columns=['RUL'])\n",
    "# test_set.index = test_set.index+1\n",
    "# test_set.to_csv('my_submission.csv', index_label='id')\n"
   ]
  },
  {
   "cell_type": "code",
   "execution_count": 41,
   "metadata": {
    "ExecuteTime": {
     "end_time": "2023-01-09T15:29:40.309762Z",
     "start_time": "2023-01-09T15:29:38.385306Z"
    }
   },
   "outputs": [
    {
     "name": "stdout",
     "output_type": "stream",
     "text": [
      "4/4 [==============================] - 2s 10ms/step\n"
     ]
    }
   ],
   "source": [
    "seq_array_test_last = [test[test['id']==id][sequence_cols].values[-sequence_length:] \n",
    "                       for id in test['id'].unique() if len(test[test['id']==id]) >= sequence_length]\n",
    "\n",
    "seq_array_test_last = np.asarray(seq_array_test_last).astype(np.float32)\n",
    "\n",
    "y_pred_test = model.predict(seq_array_test_last)\n",
    "\n",
    "data_numerical={  \"id\":[], \n",
    "        \"RUL\":[]}\n",
    "\n",
    "for i in range(97):\n",
    "    data_numerical['id'].append(i+1)\n",
    "    data_numerical['RUL'].append(float(y_pred_test[i][y_pred_test.shape[1]-1]))\n",
    "\n",
    "\n",
    "df = pd.DataFrame(data_numerical)\n",
    "df.to_csv('my_submission.csv', index=False)\n"
   ]
  },
  {
   "cell_type": "code",
   "execution_count": null,
   "metadata": {},
   "outputs": [],
   "source": []
  }
 ],
 "metadata": {
  "accelerator": "GPU",
  "colab": {
   "provenance": []
  },
  "kernelspec": {
   "display_name": "tensorflow_GPU",
   "language": "python",
   "name": "tensorflow_gpu"
  },
  "language_info": {
   "codemirror_mode": {
    "name": "ipython",
    "version": 3
   },
   "file_extension": ".py",
   "mimetype": "text/x-python",
   "name": "python",
   "nbconvert_exporter": "python",
   "pygments_lexer": "ipython3",
   "version": "3.9.13"
  },
  "toc": {
   "base_numbering": 1,
   "nav_menu": {},
   "number_sections": true,
   "sideBar": true,
   "skip_h1_title": false,
   "title_cell": "Table of Contents",
   "title_sidebar": "Contents",
   "toc_cell": false,
   "toc_position": {},
   "toc_section_display": true,
   "toc_window_display": false
  }
 },
 "nbformat": 4,
 "nbformat_minor": 1
}
